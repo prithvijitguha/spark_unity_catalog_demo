{
 "cells": [
  {
   "cell_type": "code",
   "execution_count": null,
   "metadata": {},
   "outputs": [],
   "source": [
    "\"\"\"Notebook for checking delta support and Unity Catalog OSS access\"\"\"\n",
    "from pyspark.sql import SparkSession\n",
    "from datetime import datetime\n",
    "\n",
    "curr_timestamp = datetime.now()\n",
    "spark = SparkSession.builder.appName(f\"spark_demo_{curr_timestamp}\").getOrCreate()"
   ]
  },
  {
   "cell_type": "code",
   "execution_count": null,
   "metadata": {},
   "outputs": [],
   "source": [
    "# %%\n",
    "df = spark.createDataFrame(\n",
    "    [\n",
    "        (\"jedi\", \"master\", \"anakin\", ),\n",
    "        (\"jedi\", \"master\", \"yoda\", ),\n",
    "        (\"jedi\", \"master\", \"obiwan\", ),\n",
    "        (\"sith\", \"master\", \"palpatine\", ),\n",
    "    ],\n",
    "    [\"team\", \"rank\", \"name\"]\n",
    ")\n",
    "\n",
    "df.show()"
   ]
  },
  {
   "cell_type": "code",
   "execution_count": null,
   "metadata": {},
   "outputs": [],
   "source": [
    "df.write.format(\"delta\").save(\"data/jedi_table_delta\", mode=\"overwrite\")"
   ]
  },
  {
   "cell_type": "code",
   "execution_count": null,
   "metadata": {},
   "outputs": [],
   "source": [
    "# Show schemas (output = default)\n",
    "spark.sql(\"SHOW SCHEMAS\").show()\n",
    "\n",
    "# Show tables\n",
    "spark.sql(\"SHOW TABLES IN default\").show()"
   ]
  },
  {
   "cell_type": "code",
   "execution_count": null,
   "metadata": {},
   "outputs": [],
   "source": [
    "spark.sql(\"SELECT * FROM default.marksheet LIMIT5;\").show()"
   ]
  },
  {
   "cell_type": "code",
   "execution_count": null,
   "metadata": {},
   "outputs": [],
   "source": []
  }
 ],
 "metadata": {
  "kernelspec": {
   "display_name": "spark_dev",
   "language": "python",
   "name": "python3"
  },
  "language_info": {
   "codemirror_mode": {
    "name": "ipython",
    "version": 3
   },
   "file_extension": ".py",
   "mimetype": "text/x-python",
   "name": "python",
   "nbconvert_exporter": "python",
   "pygments_lexer": "ipython3",
   "version": "3.12.6"
  }
 },
 "nbformat": 4,
 "nbformat_minor": 2
}
